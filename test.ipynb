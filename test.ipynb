{
 "cells": [
  {
   "cell_type": "code",
   "execution_count": 10,
   "metadata": {},
   "outputs": [],
   "source": [
    "import qres\n",
    "import qres.train"
   ]
  },
  {
   "cell_type": "code",
   "execution_count": 49,
   "metadata": {},
   "outputs": [
    {
     "name": "stdout",
     "output_type": "stream",
     "text": [
      "GPU available\n"
     ]
    },
    {
     "data": {
      "text/plain": [
       "<module 'qres.model' from '/home/armaana/Q-protein/qres/model.py'>"
      ]
     },
     "execution_count": 49,
     "metadata": {},
     "output_type": "execute_result"
    }
   ],
   "source": [
    "import importlib\n",
    "import os\n",
    "\n",
    "# reload train import\n",
    "importlib.reload(qres.protein)\n",
    "importlib.reload(qres.train)\n",
    "importlib.reload(qres.model)"
   ]
  },
  {
   "cell_type": "code",
   "execution_count": 43,
   "metadata": {},
   "outputs": [],
   "source": [
    "from qres.train import train"
   ]
  },
  {
   "cell_type": "code",
   "execution_count": 45,
   "metadata": {},
   "outputs": [
    {
     "name": "stdout",
     "output_type": "stream",
     "text": [
      "TRAINING UUID: bef4a638-05a2-4d82-8a28-5d90239c900d\n",
      "embedder_layer_dim: 256\n",
      "embedder_layer_dim: 256\n",
      "Step: 0\n"
     ]
    },
    {
     "ename": "KeyboardInterrupt",
     "evalue": "",
     "output_type": "error",
     "traceback": [
      "\u001b[0;31m---------------------------------------------------------------------------\u001b[0m",
      "\u001b[0;31mTypeError\u001b[0m                                 Traceback (most recent call last)",
      "File \u001b[0;32m~/.cache/pypoetry/virtualenvs/qres-1Hhg9C3B-py3.11/lib/python3.11/site-packages/Bio/File.py:72\u001b[0m, in \u001b[0;36mas_handle\u001b[0;34m(handleish, mode, **kwargs)\u001b[0m\n\u001b[1;32m     71\u001b[0m \u001b[38;5;28;01mtry\u001b[39;00m:\n\u001b[0;32m---> 72\u001b[0m     \u001b[38;5;28;01mwith\u001b[39;00m \u001b[38;5;28;43mopen\u001b[39;49m\u001b[43m(\u001b[49m\u001b[43mhandleish\u001b[49m\u001b[43m,\u001b[49m\u001b[43m \u001b[49m\u001b[43mmode\u001b[49m\u001b[43m,\u001b[49m\u001b[43m \u001b[49m\u001b[38;5;241;43m*\u001b[39;49m\u001b[38;5;241;43m*\u001b[39;49m\u001b[43mkwargs\u001b[49m\u001b[43m)\u001b[49m \u001b[38;5;28;01mas\u001b[39;00m fp:\n\u001b[1;32m     73\u001b[0m         \u001b[38;5;28;01myield\u001b[39;00m fp\n",
      "\u001b[0;31mTypeError\u001b[0m: expected str, bytes or os.PathLike object, not StringIO",
      "\nDuring handling of the above exception, another exception occurred:\n",
      "\u001b[0;31mKeyboardInterrupt\u001b[0m                         Traceback (most recent call last)",
      "Cell \u001b[0;32mIn[45], line 1\u001b[0m\n\u001b[0;32m----> 1\u001b[0m \u001b[43mtrain\u001b[49m\u001b[43m(\u001b[49m\u001b[43m)\u001b[49m\n",
      "File \u001b[0;32m~/Q-protein/qres/train.py:167\u001b[0m, in \u001b[0;36mtrain\u001b[0;34m()\u001b[0m\n\u001b[1;32m    164\u001b[0m pdbs_new \u001b[38;5;241m=\u001b[39m generate_pdbs(sequences_new)\n\u001b[1;32m    165\u001b[0m states_new \u001b[38;5;241m=\u001b[39m make_protein_states(sequences_new, pdbs_new)\n\u001b[0;32m--> 167\u001b[0m loss_new \u001b[38;5;241m=\u001b[39m \u001b[43m[\u001b[49m\n\u001b[1;32m    168\u001b[0m \u001b[43m    \u001b[49m\u001b[43mget_objective_loss\u001b[49m\u001b[43m(\u001b[49m\u001b[43mpdb\u001b[49m\u001b[43m,\u001b[49m\u001b[43m \u001b[49m\u001b[43mobjective\u001b[49m\u001b[43m)\u001b[49m\n\u001b[1;32m    169\u001b[0m \u001b[43m    \u001b[49m\u001b[38;5;28;43;01mfor\u001b[39;49;00m\u001b[43m \u001b[49m\u001b[43mpdb\u001b[49m\u001b[43m,\u001b[49m\u001b[43m \u001b[49m\u001b[43mobjective\u001b[49m\u001b[43m \u001b[49m\u001b[38;5;129;43;01min\u001b[39;49;00m\u001b[43m \u001b[49m\u001b[38;5;28;43mzip\u001b[39;49m\u001b[43m(\u001b[49m\u001b[43mpdbs_new\u001b[49m\u001b[43m,\u001b[49m\u001b[43m \u001b[49m\u001b[43mobjectives\u001b[49m\u001b[43m)\u001b[49m\n\u001b[1;32m    170\u001b[0m \u001b[43m\u001b[49m\u001b[43m]\u001b[49m\n\u001b[1;32m    171\u001b[0m rewards \u001b[38;5;241m=\u001b[39m [loss \u001b[38;5;241m-\u001b[39m loss_new \u001b[38;5;28;01mfor\u001b[39;00m loss, loss_new \u001b[38;5;129;01min\u001b[39;00m \u001b[38;5;28mzip\u001b[39m(loss, loss_new)]\n\u001b[1;32m    173\u001b[0m \u001b[38;5;28;01mfor\u001b[39;00m i \u001b[38;5;129;01min\u001b[39;00m \u001b[38;5;28mrange\u001b[39m(NUM_AGENTS):\n",
      "File \u001b[0;32m~/Q-protein/qres/train.py:168\u001b[0m, in \u001b[0;36m<listcomp>\u001b[0;34m(.0)\u001b[0m\n\u001b[1;32m    164\u001b[0m pdbs_new \u001b[38;5;241m=\u001b[39m generate_pdbs(sequences_new)\n\u001b[1;32m    165\u001b[0m states_new \u001b[38;5;241m=\u001b[39m make_protein_states(sequences_new, pdbs_new)\n\u001b[1;32m    167\u001b[0m loss_new \u001b[38;5;241m=\u001b[39m [\n\u001b[0;32m--> 168\u001b[0m     \u001b[43mget_objective_loss\u001b[49m\u001b[43m(\u001b[49m\u001b[43mpdb\u001b[49m\u001b[43m,\u001b[49m\u001b[43m \u001b[49m\u001b[43mobjective\u001b[49m\u001b[43m)\u001b[49m\n\u001b[1;32m    169\u001b[0m     \u001b[38;5;28;01mfor\u001b[39;00m pdb, objective \u001b[38;5;129;01min\u001b[39;00m \u001b[38;5;28mzip\u001b[39m(pdbs_new, objectives)\n\u001b[1;32m    170\u001b[0m ]\n\u001b[1;32m    171\u001b[0m rewards \u001b[38;5;241m=\u001b[39m [loss \u001b[38;5;241m-\u001b[39m loss_new \u001b[38;5;28;01mfor\u001b[39;00m loss, loss_new \u001b[38;5;129;01min\u001b[39;00m \u001b[38;5;28mzip\u001b[39m(loss, loss_new)]\n\u001b[1;32m    173\u001b[0m \u001b[38;5;28;01mfor\u001b[39;00m i \u001b[38;5;129;01min\u001b[39;00m \u001b[38;5;28mrange\u001b[39m(NUM_AGENTS):\n",
      "File \u001b[0;32m~/Q-protein/qres/train.py:429\u001b[0m, in \u001b[0;36mget_objective_loss\u001b[0;34m(pdb, objective)\u001b[0m\n\u001b[1;32m    428\u001b[0m \u001b[38;5;28;01mdef\u001b[39;00m \u001b[38;5;21mget_objective_loss\u001b[39m(pdb, objective):\n\u001b[0;32m--> 429\u001b[0m     \u001b[38;5;28;01mreturn\u001b[39;00m torch\u001b[38;5;241m.\u001b[39mtensor(\u001b[38;5;241m1\u001b[39m \u001b[38;5;241m-\u001b[39m \u001b[43moverall_confidence_from_pdb\u001b[49m\u001b[43m(\u001b[49m\u001b[43mpdb\u001b[49m\u001b[43m)\u001b[49m, device\u001b[38;5;241m=\u001b[39mdevice)\n\u001b[1;32m    430\u001b[0m     max_length \u001b[38;5;241m=\u001b[39m get_max_physical_protein_length_A(SEQUENCE_LEN)\n\u001b[1;32m    431\u001b[0m     objective \u001b[38;5;241m=\u001b[39m decode_objective(objective)\n",
      "File \u001b[0;32m~/Q-protein/qres/protein.py:132\u001b[0m, in \u001b[0;36moverall_confidence_from_pdb\u001b[0;34m(pdb)\u001b[0m\n\u001b[1;32m    129\u001b[0m parser \u001b[38;5;241m=\u001b[39m PDBParser(QUIET\u001b[38;5;241m=\u001b[39m\u001b[38;5;28;01mTrue\u001b[39;00m)\n\u001b[1;32m    131\u001b[0m \u001b[38;5;66;03m# Use the parser to create a structure object from the StringIO object\u001b[39;00m\n\u001b[0;32m--> 132\u001b[0m structure \u001b[38;5;241m=\u001b[39m \u001b[43mparser\u001b[49m\u001b[38;5;241;43m.\u001b[39;49m\u001b[43mget_structure\u001b[49m\u001b[43m(\u001b[49m\u001b[38;5;124;43m'\u001b[39;49m\u001b[38;5;124;43mPDB_structure\u001b[39;49m\u001b[38;5;124;43m'\u001b[39;49m\u001b[43m,\u001b[49m\u001b[43m \u001b[49m\u001b[43mpdb_io\u001b[49m\u001b[43m)\u001b[49m\n\u001b[1;32m    134\u001b[0m \u001b[38;5;66;03m# Collect B-factors\u001b[39;00m\n\u001b[1;32m    135\u001b[0m b_factors \u001b[38;5;241m=\u001b[39m []\n",
      "File \u001b[0;32m~/.cache/pypoetry/virtualenvs/qres-1Hhg9C3B-py3.11/lib/python3.11/site-packages/Bio/PDB/PDBParser.py:93\u001b[0m, in \u001b[0;36mPDBParser.get_structure\u001b[0;34m(self, id, file)\u001b[0m\n\u001b[1;32m     91\u001b[0m     \u001b[38;5;28;01mif\u001b[39;00m \u001b[38;5;129;01mnot\u001b[39;00m lines:\n\u001b[1;32m     92\u001b[0m         \u001b[38;5;28;01mraise\u001b[39;00m \u001b[38;5;167;01mValueError\u001b[39;00m(\u001b[38;5;124m\"\u001b[39m\u001b[38;5;124mEmpty file.\u001b[39m\u001b[38;5;124m\"\u001b[39m)\n\u001b[0;32m---> 93\u001b[0m     \u001b[38;5;28;43mself\u001b[39;49m\u001b[38;5;241;43m.\u001b[39;49m\u001b[43m_parse\u001b[49m\u001b[43m(\u001b[49m\u001b[43mlines\u001b[49m\u001b[43m)\u001b[49m\n\u001b[1;32m     95\u001b[0m \u001b[38;5;28mself\u001b[39m\u001b[38;5;241m.\u001b[39mstructure_builder\u001b[38;5;241m.\u001b[39mset_header(\u001b[38;5;28mself\u001b[39m\u001b[38;5;241m.\u001b[39mheader)\n\u001b[1;32m     96\u001b[0m \u001b[38;5;66;03m# Return the Structure instance\u001b[39;00m\n",
      "File \u001b[0;32m~/.cache/pypoetry/virtualenvs/qres-1Hhg9C3B-py3.11/lib/python3.11/site-packages/Bio/PDB/PDBParser.py:116\u001b[0m, in \u001b[0;36mPDBParser._parse\u001b[0;34m(self, header_coords_trailer)\u001b[0m\n\u001b[1;32m    114\u001b[0m \u001b[38;5;28mself\u001b[39m\u001b[38;5;241m.\u001b[39mheader, coords_trailer \u001b[38;5;241m=\u001b[39m \u001b[38;5;28mself\u001b[39m\u001b[38;5;241m.\u001b[39m_get_header(header_coords_trailer)\n\u001b[1;32m    115\u001b[0m \u001b[38;5;66;03m# Parse the atomic data; return the PDB file trailer\u001b[39;00m\n\u001b[0;32m--> 116\u001b[0m \u001b[38;5;28mself\u001b[39m\u001b[38;5;241m.\u001b[39mtrailer \u001b[38;5;241m=\u001b[39m \u001b[38;5;28;43mself\u001b[39;49m\u001b[38;5;241;43m.\u001b[39;49m\u001b[43m_parse_coordinates\u001b[49m\u001b[43m(\u001b[49m\u001b[43mcoords_trailer\u001b[49m\u001b[43m)\u001b[49m\n",
      "File \u001b[0;32m~/.cache/pypoetry/virtualenvs/qres-1Hhg9C3B-py3.11/lib/python3.11/site-packages/Bio/PDB/PDBParser.py:292\u001b[0m, in \u001b[0;36mPDBParser._parse_coordinates\u001b[0;34m(self, coords_trailer)\u001b[0m\n\u001b[1;32m    289\u001b[0m \u001b[38;5;28;01mif\u001b[39;00m \u001b[38;5;129;01mnot\u001b[39;00m \u001b[38;5;28mself\u001b[39m\u001b[38;5;241m.\u001b[39mis_pqr:\n\u001b[1;32m    290\u001b[0m     \u001b[38;5;66;03m# init atom with pdb fields\u001b[39;00m\n\u001b[1;32m    291\u001b[0m     \u001b[38;5;28;01mtry\u001b[39;00m:\n\u001b[0;32m--> 292\u001b[0m         \u001b[43mstructure_builder\u001b[49m\u001b[38;5;241;43m.\u001b[39;49m\u001b[43minit_atom\u001b[49m\u001b[43m(\u001b[49m\n\u001b[1;32m    293\u001b[0m \u001b[43m            \u001b[49m\u001b[43mname\u001b[49m\u001b[43m,\u001b[49m\n\u001b[1;32m    294\u001b[0m \u001b[43m            \u001b[49m\u001b[43mcoord\u001b[49m\u001b[43m,\u001b[49m\n\u001b[1;32m    295\u001b[0m \u001b[43m            \u001b[49m\u001b[43mbfactor\u001b[49m\u001b[43m,\u001b[49m\n\u001b[1;32m    296\u001b[0m \u001b[43m            \u001b[49m\u001b[43moccupancy\u001b[49m\u001b[43m,\u001b[49m\n\u001b[1;32m    297\u001b[0m \u001b[43m            \u001b[49m\u001b[43maltloc\u001b[49m\u001b[43m,\u001b[49m\n\u001b[1;32m    298\u001b[0m \u001b[43m            \u001b[49m\u001b[43mfullname\u001b[49m\u001b[43m,\u001b[49m\n\u001b[1;32m    299\u001b[0m \u001b[43m            \u001b[49m\u001b[43mserial_number\u001b[49m\u001b[43m,\u001b[49m\n\u001b[1;32m    300\u001b[0m \u001b[43m            \u001b[49m\u001b[43melement\u001b[49m\u001b[43m,\u001b[49m\n\u001b[1;32m    301\u001b[0m \u001b[43m        \u001b[49m\u001b[43m)\u001b[49m\n\u001b[1;32m    302\u001b[0m     \u001b[38;5;28;01mexcept\u001b[39;00m PDBConstructionException \u001b[38;5;28;01mas\u001b[39;00m message:\n\u001b[1;32m    303\u001b[0m         \u001b[38;5;28mself\u001b[39m\u001b[38;5;241m.\u001b[39m_handle_PDB_exception(message, global_line_counter)\n",
      "File \u001b[0;32m~/.cache/pypoetry/virtualenvs/qres-1Hhg9C3B-py3.11/lib/python3.11/site-packages/Bio/PDB/StructureBuilder.py:289\u001b[0m, in \u001b[0;36mStructureBuilder.init_atom\u001b[0;34m(self, name, coord, b_factor, occupancy, altloc, fullname, serial_number, element, pqr_charge, radius, is_pqr)\u001b[0m\n\u001b[1;32m    286\u001b[0m         residue\u001b[38;5;241m.\u001b[39mflag_disordered()\n\u001b[1;32m    287\u001b[0m \u001b[38;5;28;01melse\u001b[39;00m:\n\u001b[1;32m    288\u001b[0m     \u001b[38;5;66;03m# The atom is not disordered\u001b[39;00m\n\u001b[0;32m--> 289\u001b[0m     \u001b[43mresidue\u001b[49m\u001b[38;5;241;43m.\u001b[39;49m\u001b[43madd\u001b[49m\u001b[43m(\u001b[49m\u001b[38;5;28;43mself\u001b[39;49m\u001b[38;5;241;43m.\u001b[39;49m\u001b[43matom\u001b[49m\u001b[43m)\u001b[49m\n",
      "File \u001b[0;32m~/.cache/pypoetry/virtualenvs/qres-1Hhg9C3B-py3.11/lib/python3.11/site-packages/Bio/PDB/Residue.py:46\u001b[0m, in \u001b[0;36mResidue.add\u001b[0;34m(self, atom)\u001b[0m\n\u001b[1;32m     40\u001b[0m \u001b[38;5;28;01mdef\u001b[39;00m \u001b[38;5;21madd\u001b[39m(\u001b[38;5;28mself\u001b[39m, atom):\n\u001b[1;32m     41\u001b[0m \u001b[38;5;250m    \u001b[39m\u001b[38;5;124;03m\"\"\"Add an Atom object.\u001b[39;00m\n\u001b[1;32m     42\u001b[0m \n\u001b[1;32m     43\u001b[0m \u001b[38;5;124;03m    Checks for adding duplicate atoms, and raises a\u001b[39;00m\n\u001b[1;32m     44\u001b[0m \u001b[38;5;124;03m    PDBConstructionException if so.\u001b[39;00m\n\u001b[1;32m     45\u001b[0m \u001b[38;5;124;03m    \"\"\"\u001b[39;00m\n\u001b[0;32m---> 46\u001b[0m     atom_id \u001b[38;5;241m=\u001b[39m \u001b[43matom\u001b[49m\u001b[38;5;241;43m.\u001b[39;49m\u001b[43mget_id\u001b[49m\u001b[43m(\u001b[49m\u001b[43m)\u001b[49m\n\u001b[1;32m     47\u001b[0m     \u001b[38;5;28;01mif\u001b[39;00m \u001b[38;5;28mself\u001b[39m\u001b[38;5;241m.\u001b[39mhas_id(atom_id):\n\u001b[1;32m     48\u001b[0m         \u001b[38;5;28;01mraise\u001b[39;00m PDBConstructionException(\n\u001b[1;32m     49\u001b[0m             \u001b[38;5;124mf\u001b[39m\u001b[38;5;124m\"\u001b[39m\u001b[38;5;124mAtom \u001b[39m\u001b[38;5;132;01m{\u001b[39;00matom_id\u001b[38;5;132;01m}\u001b[39;00m\u001b[38;5;124m defined twice in residue \u001b[39m\u001b[38;5;132;01m{\u001b[39;00m\u001b[38;5;28mself\u001b[39m\u001b[38;5;132;01m}\u001b[39;00m\u001b[38;5;124m\"\u001b[39m\n\u001b[1;32m     50\u001b[0m         )\n",
      "File \u001b[0;32m~/.cache/pypoetry/virtualenvs/qres-1Hhg9C3B-py3.11/lib/python3.11/site-packages/Bio/PDB/Atom.py:374\u001b[0m, in \u001b[0;36mAtom.get_id\u001b[0;34m(self)\u001b[0m\n\u001b[1;32m    371\u001b[0m \u001b[38;5;250m    \u001b[39m\u001b[38;5;124;03m\"\"\"Return atom name.\"\"\"\u001b[39;00m\n\u001b[1;32m    372\u001b[0m     \u001b[38;5;28;01mreturn\u001b[39;00m \u001b[38;5;28mself\u001b[39m\u001b[38;5;241m.\u001b[39mname\n\u001b[0;32m--> 374\u001b[0m \u001b[38;5;28;01mdef\u001b[39;00m \u001b[38;5;21mget_id\u001b[39m(\u001b[38;5;28mself\u001b[39m):\n\u001b[1;32m    375\u001b[0m \u001b[38;5;250m    \u001b[39m\u001b[38;5;124;03m\"\"\"Return the id of the atom (which is its atom name).\"\"\"\u001b[39;00m\n\u001b[1;32m    376\u001b[0m     \u001b[38;5;28;01mreturn\u001b[39;00m \u001b[38;5;28mself\u001b[39m\u001b[38;5;241m.\u001b[39mid\n",
      "\u001b[0;31mKeyboardInterrupt\u001b[0m: "
     ]
    }
   ],
   "source": [
    "train()"
   ]
  },
  {
   "cell_type": "code",
   "execution_count": 9,
   "metadata": {},
   "outputs": [
    {
     "name": "stdout",
     "output_type": "stream",
     "text": [
      "0.8059095580678312\n"
     ]
    }
   ],
   "source": [
    "from qres.protein import generate_pdbs, overall_confidence_from_pdb\n",
    "\n",
    "sequence = \"PPPPPPPPPPPPPPPPPPPPPPPPPPPPPPPPPPPPPPPPPPPPPPPPPPPPPPPPPPPPPPPPPPPPPPPPPPPPPPPPPPPPPPPPPPPPPPPPPPPPPPPPPPPPPPPPPPPPPPPPPPPPPPPPPPPPPPPPPPP\"\n",
    "\n",
    "pdb = generate_pdbs([sequence])[0] \n",
    "\n",
    "with open(\"sequence.txt\", \"w\") as f:\n",
    "    f.write(pdb)\n",
    "\n",
    "print(overall_confidence_from_pdb(pdb))"
   ]
  },
  {
   "cell_type": "code",
   "execution_count": 48,
   "metadata": {},
   "outputs": [
    {
     "data": {
      "text/plain": [
       "torch.Size([2358])"
      ]
     },
     "execution_count": 48,
     "metadata": {},
     "output_type": "execute_result"
    }
   ],
   "source": [
    "import torch\n",
    "import pickle\n",
    "file_path = \"/home/armaana/Q-protein/qres/training/bef4a638-05a2-4d82-8a28-5d90239c900d/transitions.pkl\"\n",
    "\n",
    "def read_tensors_from_file(file_path):\n",
    "    tensors = []\n",
    "    with open(file_path, 'rb') as f:\n",
    "        while True:\n",
    "            try:\n",
    "                tensor = pickle.load(f)\n",
    "                tensors.append(tensor)\n",
    "            except EOFError:\n",
    "                break\n",
    "    return tensors\n",
    "\n",
    "read_tensors_from_file(file_path)[0].shape"
   ]
  },
  {
   "cell_type": "code",
   "execution_count": null,
   "metadata": {},
   "outputs": [],
   "source": []
  }
 ],
 "metadata": {
  "kernelspec": {
   "display_name": "Q-protein",
   "language": "python",
   "name": "python3"
  },
  "language_info": {
   "codemirror_mode": {
    "name": "ipython",
    "version": 3
   },
   "file_extension": ".py",
   "mimetype": "text/x-python",
   "name": "python",
   "nbconvert_exporter": "python",
   "pygments_lexer": "ipython3",
   "version": "3.11.6"
  }
 },
 "nbformat": 4,
 "nbformat_minor": 2
}
